{
 "cells": [
  {
   "cell_type": "code",
   "execution_count": 3,
   "metadata": {},
   "outputs": [
    {
     "name": "stdout",
     "output_type": "stream",
     "text": [
      "100.0\n"
     ]
    }
   ],
   "source": [
    "hours = int(input(\"Enter hours: \"))\n",
    "rate = int(input(\"Enter rate\"))\n",
    "pay = hours * rate\n",
    "print(float(pay))"
   ]
  },
  {
   "cell_type": "code",
   "execution_count": 10,
   "metadata": {},
   "outputs": [],
   "source": [
    "user = input(\"Do you like sugar: \")\n",
    "if user == \"yes\":\n",
    "    print(\"Sugar is bad for your health!\")\n",
    "elif user == \"no\":\n",
    "    print(\"Good job!\")"
   ]
  },
  {
   "cell_type": "code",
   "execution_count": 17,
   "metadata": {},
   "outputs": [
    {
     "name": "stdout",
     "output_type": "stream",
     "text": [
      "           0\n",
      "0     Mariya\n",
      "1     Batman\n",
      "2  Spongebob\n"
     ]
    }
   ],
   "source": [
    "import pandas as pd\n",
    "# Create a data frame\n",
    "column = [\"Mariya\", \"Batman\", \"Spongebob\"]\n",
    "data = pd.DataFrame(column)\n",
    "print(data)"
   ]
  },
  {
   "cell_type": "code",
   "execution_count": 20,
   "metadata": {},
   "outputs": [
    {
     "name": "stdout",
     "output_type": "stream",
     "text": [
      "        name\n",
      "0     Mariya\n",
      "1     Batman\n",
      "2  Spongebob\n"
     ]
    }
   ],
   "source": [
    "import pandas as pd\n",
    "# Add column name\n",
    "column = [\"Mariya\", \"Batman\", \"Spongebob\"]\n",
    "titled_column = {\"name\": column}\n",
    "data = pd.DataFrame(titled_column)\n",
    "print(data)"
   ]
  },
  {
   "cell_type": "code",
   "execution_count": 22,
   "metadata": {},
   "outputs": [
    {
     "name": "stdout",
     "output_type": "stream",
     "text": [
      "        name  height  weight\n",
      "0     Mariya    1.64      54\n",
      "1     Batman    1.90     100\n",
      "2  Spongebob    0.25       1\n"
     ]
    }
   ],
   "source": [
    "import pandas as pd\n",
    "# Add new columns\n",
    "column = [\"Mariya\", \"Batman\", \"Spongebob\"]\n",
    "titled_columns = {\"name\": column, \"height\": [1.64, 1.9, 0.25], \"weight\": [54, 100, 1]}\n",
    "data = pd.DataFrame(titled_columns)\n",
    "print(data)"
   ]
  },
  {
   "cell_type": "code",
   "execution_count": 24,
   "metadata": {},
   "outputs": [
    {
     "name": "stdout",
     "output_type": "stream",
     "text": [
      "0     54\n",
      "1    100\n",
      "2      1\n",
      "Name: weight, dtype: int64\n"
     ]
    }
   ],
   "source": [
    "import pandas as pd\n",
    "# Select column in dataframe\n",
    "column = [\"Mariya\", \"Batman\", \"Spongebob\"]\n",
    "titled_columns = {\"name\": column, \"height\": [1.64, 1.9, 0.25], \"weight\": [54, 100, 1]}\n",
    "data = pd.DataFrame(titled_columns)\n",
    "select_column = data[\"weight\"]\n",
    "print(select_column)"
   ]
  },
  {
   "cell_type": "code",
   "execution_count": 29,
   "metadata": {},
   "outputs": [
    {
     "name": "stdout",
     "output_type": "stream",
     "text": [
      "100\n"
     ]
    }
   ],
   "source": [
    "import pandas as pd\n",
    "# Select value in Data Frame\n",
    "column = [\"Mariya\", \"Batman\", \"Spongebob\"]\n",
    "titled_columns = {\"name\": column, \"height\": [1.64, 1.9, 0.25], \"weight\": [54, 100, 1]}\n",
    "data = pd.DataFrame(titled_columns)\n",
    "select_column = data[\"weight\"][1]\n",
    "print(select_column)"
   ]
  },
  {
   "cell_type": "code",
   "execution_count": 31,
   "metadata": {},
   "outputs": [
    {
     "name": "stdout",
     "output_type": "stream",
     "text": [
      "name      Batman\n",
      "height       1.9\n",
      "weight       100\n",
      "Name: 1, dtype: object\n"
     ]
    }
   ],
   "source": [
    "import pandas as pd\n",
    "# Select row in Data Frame\n",
    "column = [\"Mariya\", \"Batman\", \"Spongebob\"]\n",
    "titled_columns = {\"name\": column, \"height\": [1.64, 1.9, 0.25], \"weight\": [54, 100, 1]}\n",
    "data = pd.DataFrame(titled_columns)\n",
    "select_column = data[\"weight\"][1]\n",
    "select_row = data.iloc[1]\n",
    "print(select_row)"
   ]
  },
  {
   "cell_type": "code",
   "execution_count": 33,
   "metadata": {},
   "outputs": [
    {
     "name": "stdout",
     "output_type": "stream",
     "text": [
      "100\n"
     ]
    }
   ],
   "source": [
    "import pandas as pd\n",
    "# Select row in Data Frame, part 2\n",
    "column = [\"Mariya\", \"Batman\", \"Spongebob\"]\n",
    "titled_columns = {\"name\": column, \"height\": [1.64, 1.9, 0.25], \"weight\": [54, 100, 1]}\n",
    "data = pd.DataFrame(titled_columns)\n",
    "select_column = data[\"weight\"][1]\n",
    "select_row = data.iloc[1][\"weight\"]\n",
    "print(select_row)"
   ]
  },
  {
   "cell_type": "code",
   "execution_count": 36,
   "metadata": {},
   "outputs": [],
   "source": [
    "# We need to watch the Data manipulate section"
   ]
  },
  {
   "cell_type": "code",
   "execution_count": 38,
   "metadata": {},
   "outputs": [
    {
     "name": "stdout",
     "output_type": "stream",
     "text": [
      "        name  height  weight\n",
      "0     Mariya    1.64      54\n",
      "1     Batman    1.90     100\n",
      "2  Spongebob    0.25       1\n"
     ]
    }
   ],
   "source": [
    "import pandas as pd\n",
    "# Save data to csv or txt file and tab delimited\n",
    "column = [\"Mariya\", \"Batman\", \"Spongebob\"]\n",
    "titled_columns = {\"name\": column, \"height\": [1.64, 1.9, 0.25], \"weight\": [54, 100, 1]}\n",
    "data = pd.DataFrame(titled_columns)\n",
    "data.to_csv(\"file.csv\", index=False, sep=\"\\t\") # In the extension for the \"file.csv\" could also be \"file.txt\"\n",
    "print(data)"
   ]
  },
  {
   "cell_type": "code",
   "execution_count": 42,
   "metadata": {},
   "outputs": [
    {
     "data": {
      "text/html": [
       "<div>\n",
       "<style scoped>\n",
       "    .dataframe tbody tr th:only-of-type {\n",
       "        vertical-align: middle;\n",
       "    }\n",
       "\n",
       "    .dataframe tbody tr th {\n",
       "        vertical-align: top;\n",
       "    }\n",
       "\n",
       "    .dataframe thead th {\n",
       "        text-align: right;\n",
       "    }\n",
       "</style>\n",
       "<table border=\"1\" class=\"dataframe\">\n",
       "  <thead>\n",
       "    <tr style=\"text-align: right;\">\n",
       "      <th></th>\n",
       "      <th>name</th>\n",
       "      <th>height</th>\n",
       "      <th>weight</th>\n",
       "    </tr>\n",
       "  </thead>\n",
       "  <tbody>\n",
       "    <tr>\n",
       "      <th>0</th>\n",
       "      <td>Mariya</td>\n",
       "      <td>1.64</td>\n",
       "      <td>54</td>\n",
       "    </tr>\n",
       "    <tr>\n",
       "      <th>1</th>\n",
       "      <td>Batman</td>\n",
       "      <td>1.90</td>\n",
       "      <td>100</td>\n",
       "    </tr>\n",
       "    <tr>\n",
       "      <th>2</th>\n",
       "      <td>Spongebob</td>\n",
       "      <td>0.25</td>\n",
       "      <td>1</td>\n",
       "    </tr>\n",
       "  </tbody>\n",
       "</table>\n",
       "</div>"
      ],
      "text/plain": [
       "        name  height  weight\n",
       "0     Mariya    1.64      54\n",
       "1     Batman    1.90     100\n",
       "2  Spongebob    0.25       1"
      ]
     },
     "execution_count": 42,
     "metadata": {},
     "output_type": "execute_result"
    }
   ],
   "source": [
    "import pandas as pd\n",
    "# Load Data Frame from file(.csv or .txt)\n",
    "pd.read_csv(\"file.csv\", sep=\"\\t\")"
   ]
  },
  {
   "cell_type": "code",
   "execution_count": 51,
   "metadata": {},
   "outputs": [
    {
     "name": "stdout",
     "output_type": "stream",
     "text": [
      "               name  age\n",
      "0     Justin Bryant   24\n",
      "1       Jack Dalton   48\n",
      "2      Cody McKenna   19\n",
      "3  Youssef Whitaker   31\n",
      "4     Angel Houston   33\n"
     ]
    }
   ],
   "source": [
    "import pandas as pd\n",
    "# Head and tail methods\n",
    "data = pd.read_csv(\"customers.csv\")\n",
    "data.to_csv(\"file.csv\", index=False, sep=\"\\t\")\n",
    "print(data.head())\n",
    "#print(data.head(2))\n",
    "#print(data.tail())\n",
    "#print(data.tail(2))"
   ]
  },
  {
   "cell_type": "code",
   "execution_count": 67,
   "metadata": {},
   "outputs": [
    {
     "name": "stdout",
     "output_type": "stream",
     "text": [
      "               name  age\n",
      "35  Leonard Summers   25\n"
     ]
    }
   ],
   "source": [
    "import pandas as pd\n",
    "# Filter data entries\n",
    "data = pd.read_csv(\"customers.csv\")\n",
    "filtered = data[data[\"age\"] == 25]\n",
    "print(filtered)"
   ]
  },
  {
   "cell_type": "code",
   "execution_count": 71,
   "metadata": {},
   "outputs": [
    {
     "name": "stdout",
     "output_type": "stream",
     "text": [
      "                 name  age\n",
      "6   Steven McLaughlin   65\n",
      "12     Julian Gilmore   65\n",
      "37      Santos Weaver   65\n"
     ]
    }
   ],
   "source": [
    "import pandas as pd\n",
    "# Replace data entries\n",
    "data = pd.read_csv(\"customers.csv\")\n",
    "filtered = data[data[\"age\"] == 60]\n",
    "replacement = filtered.replace(60, 65)\n",
    "print(replacement)"
   ]
  }
 ],
 "metadata": {
  "kernelspec": {
   "display_name": "Python 3",
   "language": "python",
   "name": "python3"
  },
  "language_info": {
   "codemirror_mode": {
    "name": "ipython",
    "version": 3
   },
   "file_extension": ".py",
   "mimetype": "text/x-python",
   "name": "python",
   "nbconvert_exporter": "python",
   "pygments_lexer": "ipython3",
   "version": "3.11.1"
  },
  "orig_nbformat": 4,
  "vscode": {
   "interpreter": {
    "hash": "c812eb984687e98b7686c463c3fae2045e58b2a2b4e065b3dcebe3cb7d51662e"
   }
  }
 },
 "nbformat": 4,
 "nbformat_minor": 2
}
