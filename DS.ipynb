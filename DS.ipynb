{
 "cells": [
  {
   "cell_type": "code",
   "execution_count": 3,
   "metadata": {},
   "outputs": [
    {
     "name": "stdout",
     "output_type": "stream",
     "text": [
      "100.0\n"
     ]
    }
   ],
   "source": [
    "hours = int(input(\"Enter hours: \"))\n",
    "rate = int(input(\"Enter rate\"))\n",
    "pay = hours * rate\n",
    "print(float(pay))"
   ]
  },
  {
   "cell_type": "code",
   "execution_count": 10,
   "metadata": {},
   "outputs": [],
   "source": [
    "user = input(\"Do you like sugar: \")\n",
    "if user == \"yes\":\n",
    "    print(\"Sugar is bad for your health!\")\n",
    "elif user == \"no\":\n",
    "    print(\"Good job!\")"
   ]
  },
  {
   "cell_type": "code",
   "execution_count": 17,
   "metadata": {},
   "outputs": [
    {
     "name": "stdout",
     "output_type": "stream",
     "text": [
      "           0\n",
      "0     Mariya\n",
      "1     Batman\n",
      "2  Spongebob\n"
     ]
    }
   ],
   "source": [
    "import pandas as pd\n",
    "# Create a data frame\n",
    "column = [\"Mariya\", \"Batman\", \"Spongebob\"]\n",
    "data = pd.DataFrame(column)\n",
    "print(data)"
   ]
  },
  {
   "cell_type": "code",
   "execution_count": 20,
   "metadata": {},
   "outputs": [
    {
     "name": "stdout",
     "output_type": "stream",
     "text": [
      "        name\n",
      "0     Mariya\n",
      "1     Batman\n",
      "2  Spongebob\n"
     ]
    }
   ],
   "source": [
    "import pandas as pd\n",
    "# Add column name\n",
    "column = [\"Mariya\", \"Batman\", \"Spongebob\"]\n",
    "titled_column = {\"name\": column}\n",
    "data = pd.DataFrame(titled_column)\n",
    "print(data)"
   ]
  },
  {
   "cell_type": "code",
   "execution_count": 22,
   "metadata": {},
   "outputs": [
    {
     "name": "stdout",
     "output_type": "stream",
     "text": [
      "        name  height  weight\n",
      "0     Mariya    1.64      54\n",
      "1     Batman    1.90     100\n",
      "2  Spongebob    0.25       1\n"
     ]
    }
   ],
   "source": [
    "import pandas as pd\n",
    "# Add new columns\n",
    "column = [\"Mariya\", \"Batman\", \"Spongebob\"]\n",
    "titled_columns = {\"name\": column, \"height\": [1.64, 1.9, 0.25], \"weight\": [54, 100, 1]}\n",
    "data = pd.DataFrame(titled_columns)\n",
    "print(data)"
   ]
  },
  {
   "cell_type": "code",
   "execution_count": 24,
   "metadata": {},
   "outputs": [
    {
     "name": "stdout",
     "output_type": "stream",
     "text": [
      "0     54\n",
      "1    100\n",
      "2      1\n",
      "Name: weight, dtype: int64\n"
     ]
    }
   ],
   "source": [
    "import pandas as pd\n",
    "# Select column in dataframe\n",
    "column = [\"Mariya\", \"Batman\", \"Spongebob\"]\n",
    "titled_columns = {\"name\": column, \"height\": [1.64, 1.9, 0.25], \"weight\": [54, 100, 1]}\n",
    "data = pd.DataFrame(titled_columns)\n",
    "select_column = data[\"weight\"]\n",
    "print(select_column)"
   ]
  },
  {
   "cell_type": "code",
   "execution_count": 29,
   "metadata": {},
   "outputs": [
    {
     "name": "stdout",
     "output_type": "stream",
     "text": [
      "100\n"
     ]
    }
   ],
   "source": [
    "import pandas as pd\n",
    "# Select value in Data Frame\n",
    "column = [\"Mariya\", \"Batman\", \"Spongebob\"]\n",
    "titled_columns = {\"name\": column, \"height\": [1.64, 1.9, 0.25], \"weight\": [54, 100, 1]}\n",
    "data = pd.DataFrame(titled_columns)\n",
    "select_column = data[\"weight\"][1]\n",
    "print(select_column)"
   ]
  },
  {
   "cell_type": "code",
   "execution_count": 31,
   "metadata": {},
   "outputs": [
    {
     "name": "stdout",
     "output_type": "stream",
     "text": [
      "name      Batman\n",
      "height       1.9\n",
      "weight       100\n",
      "Name: 1, dtype: object\n"
     ]
    }
   ],
   "source": [
    "import pandas as pd\n",
    "# Select row in Data Frame\n",
    "column = [\"Mariya\", \"Batman\", \"Spongebob\"]\n",
    "titled_columns = {\"name\": column, \"height\": [1.64, 1.9, 0.25], \"weight\": [54, 100, 1]}\n",
    "data = pd.DataFrame(titled_columns)\n",
    "select_column = data[\"weight\"][1]\n",
    "select_row = data.iloc[1]\n",
    "print(select_row)"
   ]
  },
  {
   "cell_type": "code",
   "execution_count": 33,
   "metadata": {},
   "outputs": [
    {
     "name": "stdout",
     "output_type": "stream",
     "text": [
      "100\n"
     ]
    }
   ],
   "source": [
    "import pandas as pd\n",
    "# Select row in Data Frame, part 2\n",
    "column = [\"Mariya\", \"Batman\", \"Spongebob\"]\n",
    "titled_columns = {\"name\": column, \"height\": [1.64, 1.9, 0.25], \"weight\": [54, 100, 1]}\n",
    "data = pd.DataFrame(titled_columns)\n",
    "select_column = data[\"weight\"][1]\n",
    "select_row = data.iloc[1][\"weight\"]\n",
    "print(select_row)"
   ]
  },
  {
   "cell_type": "code",
   "execution_count": 36,
   "metadata": {},
   "outputs": [],
   "source": [
    "# We need to watch the Data manipulate section"
   ]
  },
  {
   "cell_type": "code",
   "execution_count": 37,
   "metadata": {},
   "outputs": [
    {
     "name": "stdout",
     "output_type": "stream",
     "text": [
      "        name  height  weight\n",
      "0     Mariya    1.64      54\n",
      "1     Batman    1.90     100\n",
      "2  Spongebob    0.25       1\n"
     ]
    }
   ],
   "source": [
    "import pandas as pd\n",
    "# Save data to csv or txt file and tab delimited\n",
    "column = [\"Mariya\", \"Batman\", \"Spongebob\"]\n",
    "titled_columns = {\"name\": column, \"height\": [1.64, 1.9, 0.25], \"weight\": [54, 100, 1]}\n",
    "data = pd.DataFrame(titled_columns)\n",
    "data.to_csv(\"file.csv\", sep=\"\\t\") # In the extension for the \"file.csv\" could also be \"file.txt\"\n",
    "print(data)"
   ]
  }
 ],
 "metadata": {
  "kernelspec": {
   "display_name": "Python 3",
   "language": "python",
   "name": "python3"
  },
  "language_info": {
   "codemirror_mode": {
    "name": "ipython",
    "version": 3
   },
   "file_extension": ".py",
   "mimetype": "text/x-python",
   "name": "python",
   "nbconvert_exporter": "python",
   "pygments_lexer": "ipython3",
   "version": "3.11.1"
  },
  "orig_nbformat": 4,
  "vscode": {
   "interpreter": {
    "hash": "c812eb984687e98b7686c463c3fae2045e58b2a2b4e065b3dcebe3cb7d51662e"
   }
  }
 },
 "nbformat": 4,
 "nbformat_minor": 2
}
