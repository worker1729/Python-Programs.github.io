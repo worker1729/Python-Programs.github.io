{
 "cells": [
  {
   "cell_type": "code",
   "execution_count": 3,
   "metadata": {},
   "outputs": [
    {
     "name": "stdout",
     "output_type": "stream",
     "text": [
      "100.0\n"
     ]
    }
   ],
   "source": [
    "hours = int(input(\"Enter hours: \"))\n",
    "rate = int(input(\"Enter rate\"))\n",
    "pay = hours * rate\n",
    "print(float(pay))"
   ]
  },
  {
   "cell_type": "code",
   "execution_count": 1,
   "metadata": {},
   "outputs": [],
   "source": [
    "user = input(\"Do you like sugar: \")\n",
    "if user == \"yes\":\n",
    "    print(\"Sugar is bad for your health!\")\n",
    "elif user == \"no\":\n",
    "    print(\"Good job!\")"
   ]
  },
  {
   "cell_type": "code",
   "execution_count": 3,
   "metadata": {},
   "outputs": [
    {
     "name": "stdout",
     "output_type": "stream",
     "text": [
      "You are a child!\n"
     ]
    }
   ],
   "source": [
    "age = int(input(\"Enter your age: \"))\n",
    "if age >= 18:\n",
    "  print(\"You are an adult!\")\n",
    "elif age >= 13:\n",
    "  print(\"You are a teenager!\")\n",
    "else:\n",
    "  print(\"You are a child!\")"
   ]
  },
  {
   "cell_type": "code",
   "execution_count": 4,
   "metadata": {},
   "outputs": [
    {
     "name": "stdout",
     "output_type": "stream",
     "text": [
      "This is your text: \n"
     ]
    }
   ],
   "source": [
    "user = input(\"Enter the text to store: \")\n",
    "print(\"This is your text: \" + user)"
   ]
  },
  {
   "cell_type": "code",
   "execution_count": 19,
   "metadata": {},
   "outputs": [
    {
     "name": "stdout",
     "output_type": "stream",
     "text": [
      "       Name  Height  Weight        Bmi\n",
      "0    Mariya    1.67      54  19.362473\n",
      "1    Batman    1.90     100  27.700831\n",
      "2  Songebob    0.25       1  16.000000\n"
     ]
    }
   ],
   "source": [
    "import pandas as pd\n",
    "# Create a DataFrame\n",
    "column = [\"Mariya\", \"Batman\", \"Songebob\"]\n",
    "titled_columns = {\"Name\": column,\n",
    "\"Height\": [1.67, 1.9, 0.25],\n",
    "\"Weight\": [54, 100, 1]}\n",
    "data = pd.DataFrame(titled_columns)\n",
    "select_column = data[\"Weight\"][1]\n",
    "select_row = data.iloc[1][\"Weight\"]\n",
    "bmi = []\n",
    "for i in range(len(data)):\n",
    "    bmi_score = data[\"Weight\"][i]/(data[\"Height\"][i]**2)\n",
    "    bmi.append(bmi_score)\n",
    "data[\"Bmi\"] = bmi\n",
    "data.to_csv(\"bmi.csv\", index=False, sep=\"\\t\")\n",
    "print(data)\n"
   ]
  },
  {
   "cell_type": "code",
   "execution_count": 27,
   "metadata": {},
   "outputs": [
    {
     "name": "stdout",
     "output_type": "stream",
     "text": [
      "     Name  Height  Weight        Bmi\n",
      "0  Mariya    1.67      54  19.362473\n",
      "       Name  Height  Weight   Bmi\n",
      "2  Songebob    0.25       1  16.0\n"
     ]
    }
   ],
   "source": [
    "import pandas as pd\n",
    "# Load DataFrame from file\n",
    "data = pd.read_csv(\"bmi.csv\", sep=\"\\t\")\n",
    "print(data.head(1))\n",
    "print(data.tail(1))\n"
   ]
  },
  {
   "cell_type": "code",
   "execution_count": 55,
   "metadata": {},
   "outputs": [
    {
     "name": "stdout",
     "output_type": "stream",
     "text": [
      "     Name  Height  Weight        Bmi\n",
      "1  Batman     1.9     100  27.700831\n"
     ]
    }
   ],
   "source": [
    "filter_row = data[data[\"Name\"]==\"Batman\"]\n",
    "replaced_name = data.replace(\"Batman\", \"Superman\")\n",
    "remove_column = data.drop([\"Bmi\", \"Weight\"], axis=1)\n",
    "remove_row = data.iloc[1:2]\n",
    "print(remove_row)"
   ]
  },
  {
   "cell_type": "code",
   "execution_count": 56,
   "metadata": {},
   "outputs": [
    {
     "name": "stdout",
     "output_type": "stream",
     "text": [
      "       Name  Height  Weight        Bmi Release_year            Release_name  \\\n",
      "0    Mariya    1.67    54.0  19.362473          NaN                     NaN   \n",
      "1    Batman    1.90   100.0  27.700831          NaN                     NaN   \n",
      "2  Songebob    0.25     1.0  16.000000          NaN                     NaN   \n",
      "3       NaN     NaN     NaN        NaN         2021  Natural Vision Evolved   \n",
      "\n",
      "          City  \n",
      "0          NaN  \n",
      "1          NaN  \n",
      "2          NaN  \n",
      "3  Los Angeles  \n"
     ]
    },
    {
     "name": "stderr",
     "output_type": "stream",
     "text": [
      "C:\\Users\\Usuario\\AppData\\Local\\Temp\\ipykernel_3300\\1883580695.py:4: FutureWarning: The frame.append method is deprecated and will be removed from pandas in a future version. Use pandas.concat instead.\n",
      "  new_row_data = data.append(row, ignore_index=True)\n"
     ]
    }
   ],
   "source": [
    "row = {\"Release_year\":\"2021\",\n",
    "\"Release_name\":\"Natural Vision Evolved\",\n",
    "\"City\":\"Los Angeles\"}\n",
    "new_row_data = data.append(row, ignore_index=True)\n",
    "print(new_row_data)"
   ]
  }
 ],
 "metadata": {
  "kernelspec": {
   "display_name": "Python 3",
   "language": "python",
   "name": "python3"
  },
  "language_info": {
   "codemirror_mode": {
    "name": "ipython",
    "version": 3
   },
   "file_extension": ".py",
   "mimetype": "text/x-python",
   "name": "python",
   "nbconvert_exporter": "python",
   "pygments_lexer": "ipython3",
   "version": "3.11.1"
  },
  "orig_nbformat": 4,
  "vscode": {
   "interpreter": {
    "hash": "c812eb984687e98b7686c463c3fae2045e58b2a2b4e065b3dcebe3cb7d51662e"
   }
  }
 },
 "nbformat": 4,
 "nbformat_minor": 2
}
