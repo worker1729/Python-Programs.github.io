{
 "cells": [
  {
   "cell_type": "code",
   "execution_count": 17,
   "metadata": {},
   "outputs": [
    {
     "name": "stdout",
     "output_type": "stream",
     "text": [
      "     Name  Age  Gender\n",
      "0    Mike   25    Male\n",
      "1  Rachel   35  Female\n",
      "2  Eunice   19  Female\n"
     ]
    }
   ],
   "source": [
    "import pandas as pd\n",
    "read = pd.read_csv(\"demo.csv\")\n",
    "print(read)"
   ]
  },
  {
   "cell_type": "code",
   "execution_count": 19,
   "metadata": {},
   "outputs": [
    {
     "name": "stdout",
     "output_type": "stream",
     "text": [
      "Male : 1\n",
      "Female : 2\n"
     ]
    }
   ],
   "source": [
    "read = pd.read_csv(\"demo.csv\")\n",
    "print(f\"Male : {len(read[read['Gender'] == 'Male'])}\")\n",
    "print(f\"Female : {len(read[read['Gender'] == 'Female'])}\")"
   ]
  },
  {
   "cell_type": "code",
   "execution_count": 26,
   "metadata": {},
   "outputs": [
    {
     "name": "stdout",
     "output_type": "stream",
     "text": [
      "Name      Rachel\n",
      "Age           35\n",
      "Gender      Male\n",
      "dtype: object\n"
     ]
    }
   ],
   "source": [
    "read = pd.read_csv(\"demo.csv\")\n",
    "print(read.max())"
   ]
  }
 ],
 "metadata": {
  "kernelspec": {
   "display_name": "Python 3",
   "language": "python",
   "name": "python3"
  },
  "language_info": {
   "codemirror_mode": {
    "name": "ipython",
    "version": 3
   },
   "file_extension": ".py",
   "mimetype": "text/x-python",
   "name": "python",
   "nbconvert_exporter": "python",
   "pygments_lexer": "ipython3",
   "version": "3.11.1"
  },
  "orig_nbformat": 4,
  "vscode": {
   "interpreter": {
    "hash": "c812eb984687e98b7686c463c3fae2045e58b2a2b4e065b3dcebe3cb7d51662e"
   }
  }
 },
 "nbformat": 4,
 "nbformat_minor": 2
}
